{
 "cells": [
  {
   "cell_type": "code",
   "execution_count": 87,
   "metadata": {},
   "outputs": [
    {
     "name": "stdout",
     "output_type": "stream",
     "text": [
      "Good\n"
     ]
    }
   ],
   "source": [
    "if True:\n",
    "    print(\"Good\")  # 들여쓰기(Indent)\n",
    "else:\n",
    "    print(\"bad\")\n"
   ]
  },
  {
   "cell_type": "code",
   "execution_count": 88,
   "metadata": {},
   "outputs": [
    {
     "name": "stdout",
     "output_type": "stream",
     "text": [
      "Hello,  sungkun\n"
     ]
    }
   ],
   "source": [
    "def first_func(w):\n",
    "    print(\"Hello, \", w)\n",
    "\n",
    "first_func(\"sungkun\")"
   ]
  },
  {
   "cell_type": "code",
   "execution_count": 89,
   "metadata": {},
   "outputs": [
    {
     "data": {
      "text/plain": [
       "'Hello, Goodboy2'"
      ]
     },
     "execution_count": 89,
     "metadata": {},
     "output_type": "execute_result"
    }
   ],
   "source": [
    "def return_func(w1):\n",
    "    value = \"Hello, \" + str(w1)\n",
    "    return value\n",
    "\n",
    "return_func('Goodboy2')\n",
    "    "
   ]
  },
  {
   "cell_type": "code",
   "execution_count": 90,
   "metadata": {},
   "outputs": [
    {
     "name": "stdout",
     "output_type": "stream",
     "text": [
      "(20, 40, 60) <class 'tuple'> {40, 20, 60} [20, 40, 60]\n"
     ]
    }
   ],
   "source": [
    "def func_mul(x):\n",
    "    y1 = x * 10\n",
    "    y2 = x * 20\n",
    "    y3 = x * 30\n",
    "    return (y1, y2, y3)\n",
    "q = func_mul(2)\n",
    "\n",
    "print(q,type(q),set(q),list(q))"
   ]
  },
  {
   "cell_type": "code",
   "execution_count": 91,
   "metadata": {},
   "outputs": [
    {
     "name": "stdout",
     "output_type": "stream",
     "text": [
      "100 200 300\n"
     ]
    }
   ],
   "source": [
    "x, y, z = func_mul(10)\n",
    "print(x,y,z)"
   ]
  },
  {
   "cell_type": "code",
   "execution_count": 92,
   "metadata": {},
   "outputs": [
    {
     "name": "stdout",
     "output_type": "stream",
     "text": [
      "<class 'dict'> 200\n"
     ]
    }
   ],
   "source": [
    "def func_mul3(x):\n",
    "    y1 = x * 10\n",
    "    y2 = x * 20\n",
    "    y3 = x * 30\n",
    "    return {'v1':y1, 'v2':y2, 'v3':y3}\n",
    "r=func_mul3(20)\n",
    "print(type(r),r['v1'])"
   ]
  },
  {
   "cell_type": "code",
   "execution_count": 93,
   "metadata": {},
   "outputs": [
    {
     "name": "stdout",
     "output_type": "stream",
     "text": [
      "Result 0 lee\n",
      "Result 1 key\n",
      "Result 2 kim\n",
      "------\n"
     ]
    }
   ],
   "source": [
    "def args_func(*args): #매개변수 자유 \n",
    "    for i,v in enumerate(args):\n",
    "#        print('Result : {}' .format(i),v)\n",
    "        print('Result %s' % (i),v)\n",
    "    print('------')\n",
    "\n",
    "args_func('lee','key','kim')"
   ]
  },
  {
   "cell_type": "code",
   "execution_count": 94,
   "metadata": {},
   "outputs": [
    {
     "name": "stdout",
     "output_type": "stream",
     "text": [
      "name1 Lee\n",
      "name2 Park\n",
      "name3 Cho\n",
      "-----\n"
     ]
    }
   ],
   "source": [
    "\n",
    "# **kwargs(언팩킹)\n",
    "def kwargs_func(**kwargs): # 매개변수 명 자유, 딕셔너리형 \n",
    "    for v in kwargs.keys():\n",
    "    #    print(\"{}\".format(v), kwargs[v])\n",
    "        print('%s' % (v), kwargs[v])\n",
    "    print('-----')\n",
    "\n",
    "\n",
    "kwargs_func(name1='Lee', name2='Park', name3='Cho')\n"
   ]
  },
  {
   "cell_type": "code",
   "execution_count": 95,
   "metadata": {},
   "outputs": [
    {
     "name": "stdout",
     "output_type": "stream",
     "text": [
      "name1 is Lee,name2 is Park,name3 is Cho,-----\n"
     ]
    }
   ],
   "source": [
    "\n",
    "# **kwargs(언팩킹)\n",
    "def kwargs_func(**kwargs): # 매개변수 명 자유, 딕셔너리형 \n",
    "    for i,v in kwargs.items():\n",
    "    #    print(\"{}\".format(v), kwargs[v])\n",
    "        print('%s is %s' % (i,v),end=\",\")\n",
    "    print('-----')\n",
    "\n",
    "\n",
    "kwargs_func(name1='Lee', name2='Park', name3='Cho')\n"
   ]
  },
  {
   "cell_type": "code",
   "execution_count": 96,
   "metadata": {},
   "outputs": [
    {
     "name": "stdout",
     "output_type": "stream",
     "text": [
      "10 20 ('lee', 'KIM') {'name1': 'Lee', 'name2': 'Park', 'name3': 'Cho'}\n"
     ]
    }
   ],
   "source": [
    "def example (args_1,args_2,*args,**kwargs):\n",
    "    print(args_1,args_2,args,kwargs)\n",
    "example(10,20,'lee','KIM',name1='Lee', name2='Park', name3='Cho')"
   ]
  },
  {
   "cell_type": "code",
   "execution_count": 97,
   "metadata": {},
   "outputs": [
    {
     "name": "stdout",
     "output_type": "stream",
     "text": [
      "In func\n",
      "2000\n"
     ]
    }
   ],
   "source": [
    "# 중첩함수 : 함수 안에 함수가 있다.\n",
    "#첫번째 함수를 실행하고 그 안의 함수를 실행. \n",
    "def nested_func(num):\n",
    "    def func_in_func(num):\n",
    "        print(num*10)\n",
    "    print(\"In func\")\n",
    "    func_in_func(num + 100)\n",
    "\n",
    "nested_func(100)"
   ]
  },
  {
   "cell_type": "code",
   "execution_count": 98,
   "metadata": {},
   "outputs": [
    {
     "name": "stdout",
     "output_type": "stream",
     "text": [
      "500\n"
     ]
    },
    {
     "ename": "NameError",
     "evalue": "name 'mul_func_var' is not defined",
     "output_type": "error",
     "traceback": [
      "\u001b[1;31m---------------------------------------------------------------------------\u001b[0m",
      "\u001b[1;31mNameError\u001b[0m                                 Traceback (most recent call last)",
      "\u001b[1;32m~\\AppData\\Local\\Temp/ipykernel_8056/360536024.py\u001b[0m in \u001b[0;36m<module>\u001b[1;34m\u001b[0m\n\u001b[0;32m     12\u001b[0m \u001b[0mprint\u001b[0m\u001b[1;33m(\u001b[0m\u001b[0mmul_func\u001b[0m\u001b[1;33m(\u001b[0m\u001b[1;36m10\u001b[0m\u001b[1;33m,\u001b[0m \u001b[1;36m50\u001b[0m\u001b[1;33m)\u001b[0m\u001b[1;33m)\u001b[0m\u001b[1;33m\u001b[0m\u001b[1;33m\u001b[0m\u001b[0m\n\u001b[0;32m     13\u001b[0m \u001b[1;31m#mul_func_var = mul_func\u001b[0m\u001b[1;33m\u001b[0m\u001b[1;33m\u001b[0m\u001b[0m\n\u001b[1;32m---> 14\u001b[1;33m \u001b[0mprint\u001b[0m\u001b[1;33m(\u001b[0m\u001b[0mmul_func_var\u001b[0m\u001b[1;33m(\u001b[0m\u001b[1;36m10\u001b[0m\u001b[1;33m,\u001b[0m\u001b[1;36m50\u001b[0m\u001b[1;33m)\u001b[0m\u001b[1;33m)\u001b[0m\u001b[1;33m\u001b[0m\u001b[1;33m\u001b[0m\u001b[0m\n\u001b[0m\u001b[0;32m     15\u001b[0m \u001b[0ma\u001b[0m\u001b[1;33m=\u001b[0m\u001b[1;32mlambda\u001b[0m \u001b[0mx\u001b[0m\u001b[1;33m,\u001b[0m\u001b[0my\u001b[0m\u001b[1;33m:\u001b[0m\u001b[0mx\u001b[0m\u001b[1;33m*\u001b[0m\u001b[0my\u001b[0m\u001b[1;33m;\u001b[0m\u001b[0ma\u001b[0m\u001b[1;33m(\u001b[0m\u001b[1;36m10\u001b[0m\u001b[1;33m,\u001b[0m\u001b[1;36m50\u001b[0m\u001b[1;33m)\u001b[0m\u001b[1;33m\u001b[0m\u001b[1;33m\u001b[0m\u001b[0m\n",
      "\u001b[1;31mNameError\u001b[0m: name 'mul_func_var' is not defined"
     ]
    }
   ],
   "source": [
    "# 람다식 예제\n",
    "# 메모리 절약, 가독성 향상, 코드 간결\n",
    "# 함수는 객체 생성 -> 리소스(메모리) 할당\n",
    "# 람다는 즉시 실행 함수(Heap 초기화) -> 메모리 초기화\n",
    "# 남발 시 가독성 오히려 감소\n",
    "\n",
    "\n",
    "# 일반적함수 -> 할당\n",
    "def mul_func(x, y):\n",
    "    return x * y\n",
    "#mul_func(10,50)\n",
    "print(mul_func(10, 50))\n",
    "#mul_func_var = mul_func\n",
    "print(mul_func_var(10,50))\n",
    "a=lambda x,y:x*y;a(10,50)"
   ]
  },
  {
   "cell_type": "code",
   "execution_count": null,
   "metadata": {},
   "outputs": [
    {
     "name": "stdout",
     "output_type": "stream",
     "text": [
      ">>>> 10000\n",
      ">>>> 10000\n"
     ]
    }
   ],
   "source": [
    "#일시적으로 함수가 필요할 때 lambda(간단한함수)를 사용한다 \n",
    "lambda_mul_func = lambda x,y:x*y\n",
    "#print(lambda_mul_func(50,50))\n",
    "def func_final(x, y, func): # 3번쩨는 함수를 인자로 받는데 이걸 lambda로 받을 수 있다. 이름이 없기 때문에 즉시 .\n",
    "    print('>>>>', x * y * func(5, 10))\n",
    "func_final(10, 20, lambda_mul_func)\n",
    "func_final(10, 20, lambda x,y:x*y)\n",
    " \n"
   ]
  },
  {
   "cell_type": "code",
   "execution_count": null,
   "metadata": {},
   "outputs": [
    {
     "name": "stdout",
     "output_type": "stream",
     "text": [
      "100\n"
     ]
    }
   ],
   "source": [
    "def tot_length1(word: str, num: int) -> int:\n",
    "    return len(word) * num\n",
    "\n",
    "\n",
    "print(tot_length1(\"i love you\", 10))"
   ]
  },
  {
   "cell_type": "code",
   "execution_count": null,
   "metadata": {},
   "outputs": [
    {
     "name": "stdout",
     "output_type": "stream",
     "text": [
      "hint exam2 :  70\n"
     ]
    }
   ],
   "source": [
    "def tot_length2(word: str, num: int) -> None:\n",
    "    print('hint exam2 : ', len(word) * num)\n",
    "\n",
    "\n",
    "tot_length2(\"niceman\", 10)"
   ]
  },
  {
   "cell_type": "code",
   "execution_count": null,
   "metadata": {},
   "outputs": [
    {
     "name": "stdout",
     "output_type": "stream",
     "text": [
      "<class '__main__.Dog'>\n",
      "False 2098345852832 2098359551840\n",
      "dog1 {'name': 'mikky', 'age': 2}\n",
      "dog2 {'name': 'baby', 'age': 3}\n"
     ]
    }
   ],
   "source": [
    "# 예제1\n",
    "class Dog: # object 상속\n",
    "    # 클래스 속성\n",
    "    species = 'firstdog'\n",
    "    \n",
    "    # 초기화/인스턴스 속성 : 모든 클래스가 가져야하는 속성 \n",
    "    def __init__(self, name, age):\n",
    "        self.name = name\n",
    "        self.age = age\n",
    "# 클래스 정보\n",
    "print(Dog)\n",
    "# 인스턴스화 : 클래스이름과 init method에 넣었던 것들을 넣어준다.\n",
    "a = Dog(\"mikky\", 2)\n",
    "b = Dog(\"baby\", 3)\n",
    "\n",
    "# 비교\n",
    "print(a == b, id(a), id(b))\n",
    "\n",
    "# 네임스페이스\n",
    "print('dog1', a.__dict__)\n",
    "print('dog2', b.__dict__)   "
   ]
  },
  {
   "cell_type": "code",
   "execution_count": null,
   "metadata": {},
   "outputs": [
    {
     "name": "stdout",
     "output_type": "stream",
     "text": [
      "mikky is 2 and baby is 3\n",
      "mikky is a firstdog\n",
      "firstdog\n",
      "firstdog\n"
     ]
    }
   ],
   "source": [
    "print( \"%s is %s and %s is %s\" % (a.name,a.age,b.name,b.age))\n",
    "if a.species == 'firstdog':\n",
    "    print(\"%s is a %s\" % (a.name,a.species))\n",
    "\n",
    "print(a.species)\n",
    "print(b.species)"
   ]
  },
  {
   "cell_type": "code",
   "execution_count": null,
   "metadata": {},
   "outputs": [
    {
     "name": "stdout",
     "output_type": "stream",
     "text": [
      "2098359633040\n",
      "func1 called\n",
      "2098359633040\n",
      "func2 called\n",
      "2098359633040\n",
      "func2 called\n"
     ]
    }
   ],
   "source": [
    "#self의 이해\n",
    "#init method가 없는 이유는 기본함수(입력값없음) 이기 때문에.\n",
    "class selftest:\n",
    "    def func1():  #class method\n",
    "        print('func1 called')\n",
    "    def func2(self): # self method가 있으면 instance시킨 변수가 self로 들어간다. \n",
    "        print(id(self))\n",
    "        print('func2 called')\n",
    "f = selftest()\n",
    "#print(id(f))\n",
    "#print(dir(id))\n",
    "#f.func1() # error \n",
    "\n",
    "print(id(f))\n",
    "selftest.func1() #class로 호출해야 호출됨\n",
    "f.func2() #클래스를 생성한 인스턴스화 시킨 변수가 self로 넘어간다. \n",
    "selftest.func2(f)\n"
   ]
  },
  {
   "cell_type": "code",
   "execution_count": null,
   "metadata": {},
   "outputs": [],
   "source": [
    "# 예제3\n",
    "# 클래스 변수, 인스턴스 변수\n",
    "class Warehouse:\n",
    "    # 클래스 변수 \n",
    "    stock_num = 0 # 재고\n",
    "    \n",
    "    def __init__(self, name):\n",
    "        # 인스턴스 변수\n",
    "        self.name = name\n",
    "        Warehouse.stock_num += 1\n",
    "    \n",
    "    def __del__(self):\n",
    "        Warehouse.stock_num -= 1\n",
    "\n",
    "\n"
   ]
  },
  {
   "cell_type": "code",
   "execution_count": null,
   "metadata": {},
   "outputs": [
    {
     "name": "stdout",
     "output_type": "stream",
     "text": [
      "Lede\n",
      "Chod\n",
      "0\n"
     ]
    }
   ],
   "source": [
    "user1 = Warehouse('Lede')\n",
    "user2 = Warehouse('Chod')\n",
    "print(user1.name)\n",
    "print(user2.name)\n",
    "print(Warehouse.stock_num)"
   ]
  },
  {
   "cell_type": "code",
   "execution_count": null,
   "metadata": {},
   "outputs": [],
   "source": [
    "# 예제4\n",
    "class Dog: # object 상속\n",
    "    # 클래스 속성\n",
    "    species = 'firstdog'\n",
    "    \n",
    "    # 초기화/인스턴스 속성\n",
    "    def __init__(self, name, age):\n",
    "        self.name = name\n",
    "        self.age = age\n",
    "    \n",
    "    def info(self):\n",
    "        return '{} is {} years old'.format(self.name, self.age)\n",
    "        \n",
    "    def speak(self, sound):\n",
    "        return \"{} says {}!\".format(self.name, sound)\n"
   ]
  },
  {
   "cell_type": "code",
   "execution_count": null,
   "metadata": {},
   "outputs": [
    {
     "data": {
      "text/plain": [
       "'july is 4 years old'"
      ]
     },
     "execution_count": 68,
     "metadata": {},
     "output_type": "execute_result"
    }
   ],
   "source": [
    "# 인스턴스 생성\n",
    "c = Dog('july', 4)\n",
    "d = Dog('Marry', 10)\n",
    "# 메소드 호출\n",
    "c.info()\n",
    "#print(d.info())\n",
    "# 메소드 호출\n",
    "#print(c.speak('Wal Wal'))\n",
    "#print(d.speak('Mung Mung'))"
   ]
  },
  {
   "cell_type": "code",
   "execution_count": null,
   "metadata": {},
   "outputs": [
    {
     "data": {
      "text/plain": [
       "3.141592653589793"
      ]
     },
     "execution_count": 71,
     "metadata": {},
     "output_type": "execute_result"
    }
   ],
   "source": [
    "\n",
    "import math\n",
    "math.pi"
   ]
  },
  {
   "cell_type": "code",
   "execution_count": null,
   "metadata": {},
   "outputs": [
    {
     "data": {
      "text/plain": [
       "\" \\nprint('-' * 15)\\nprint('called! inner!')\\nprint(add(5,5))\\nprint(subtract(15,5))\\nprint(multiply(5,5))\\nprint(divide(10,2))\\nprint(power(5,3))\\nprint('-' * 15)\\n\""
      ]
     },
     "execution_count": 77,
     "metadata": {},
     "output_type": "execute_result"
    }
   ],
   "source": [
    "def add(x, y):\n",
    "    return x + y\n",
    "\n",
    "def subtract(x, y):\n",
    "    return x - y\n",
    "\n",
    "def multiply(x, y):\n",
    "    return x * y\n",
    "\n",
    "def divide(x , y):\n",
    "    return x / y\n",
    "    \n",
    "def power(x, y):\n",
    "    return x ** y\n",
    "    \n",
    "''' \n",
    "print('-' * 15)\n",
    "print('called! inner!')\n",
    "print(add(5,5))\n",
    "print(subtract(15,5))\n",
    "print(multiply(5,5))\n",
    "print(divide(10,2))\n",
    "print(power(5,3))\n",
    "print('-' * 15)\n",
    "'''"
   ]
  },
  {
   "cell_type": "code",
   "execution_count": null,
   "metadata": {},
   "outputs": [
    {
     "name": "stdout",
     "output_type": "stream",
     "text": [
      "---------------\n",
      "called! __main__\n",
      "10\n",
      "10\n",
      "25\n",
      "5.0\n",
      "125\n",
      "---------------\n"
     ]
    }
   ],
   "source": [
    "# # __name__ 사용\n",
    "# if __name__ == \"__main__\":\n",
    "#     print('-' * 15)\n",
    "#     print('called! __main__')\n",
    "#     print(add(5,5))\n",
    "#     print(subtract(15,5))\n",
    "#     print(multiply(5,5))\n",
    "#     print(divide(10,2))\n",
    "#     print(power(5,3))\n",
    "#     print('-' * 15)"
   ]
  },
  {
   "cell_type": "code",
   "execution_count": null,
   "metadata": {},
   "outputs": [
    {
     "name": "stdout",
     "output_type": "stream",
     "text": [
      "['c:\\\\Users\\\\sungk\\\\OneDrive\\\\바탕 화면\\\\programming', 'c:\\\\Users\\\\sungk\\\\.vscode\\\\extensions\\\\ms-toolsai.jupyter-2021.10.1101450599\\\\pythonFiles', 'c:\\\\Users\\\\sungk\\\\.vscode\\\\extensions\\\\ms-toolsai.jupyter-2021.10.1101450599\\\\pythonFiles\\\\lib\\\\python', 'C:\\\\Users\\\\sungk\\\\AppData\\\\Local\\\\Programs\\\\Python\\\\Python39\\\\python39.zip', 'C:\\\\Users\\\\sungk\\\\AppData\\\\Local\\\\Programs\\\\Python\\\\Python39\\\\DLLs', 'C:\\\\Users\\\\sungk\\\\AppData\\\\Local\\\\Programs\\\\Python\\\\Python39\\\\lib', 'C:\\\\Users\\\\sungk\\\\AppData\\\\Local\\\\Programs\\\\Python\\\\Python39', '', 'C:\\\\Users\\\\sungk\\\\AppData\\\\Local\\\\Programs\\\\Python\\\\Python39\\\\lib\\\\site-packages', 'C:\\\\Users\\\\sungk\\\\AppData\\\\Local\\\\Programs\\\\Python\\\\Python39\\\\lib\\\\site-packages\\\\win32', 'C:\\\\Users\\\\sungk\\\\AppData\\\\Local\\\\Programs\\\\Python\\\\Python39\\\\lib\\\\site-packages\\\\win32\\\\lib', 'C:\\\\Users\\\\sungk\\\\AppData\\\\Local\\\\Programs\\\\Python\\\\Python39\\\\lib\\\\site-packages\\\\Pythonwin', 'C:\\\\Users\\\\sungk\\\\AppData\\\\Local\\\\Programs\\\\Python\\\\Python39\\\\lib\\\\site-packages\\\\IPython\\\\extensions', 'C:\\\\Users\\\\sungk\\\\.ipython']\n"
     ]
    }
   ],
   "source": [
    "\n",
    "import sys\n",
    "# 이건 어디서 오는 것일까? \n",
    "print(sys.path)\n",
    "#이렇게 보면 알 수 있다. "
   ]
  },
  {
   "cell_type": "code",
   "execution_count": null,
   "metadata": {},
   "outputs": [
    {
     "data": {
      "text/plain": [
       "['c:\\\\Users\\\\sungk\\\\OneDrive\\\\바탕 화면\\\\programming',\n",
       " 'c:\\\\Users\\\\sungk\\\\.vscode\\\\extensions\\\\ms-toolsai.jupyter-2021.10.1101450599\\\\pythonFiles',\n",
       " 'c:\\\\Users\\\\sungk\\\\.vscode\\\\extensions\\\\ms-toolsai.jupyter-2021.10.1101450599\\\\pythonFiles\\\\lib\\\\python',\n",
       " 'C:\\\\Users\\\\sungk\\\\AppData\\\\Local\\\\Programs\\\\Python\\\\Python39\\\\python39.zip',\n",
       " 'C:\\\\Users\\\\sungk\\\\AppData\\\\Local\\\\Programs\\\\Python\\\\Python39\\\\DLLs',\n",
       " 'C:\\\\Users\\\\sungk\\\\AppData\\\\Local\\\\Programs\\\\Python\\\\Python39\\\\lib',\n",
       " 'C:\\\\Users\\\\sungk\\\\AppData\\\\Local\\\\Programs\\\\Python\\\\Python39',\n",
       " '',\n",
       " 'C:\\\\Users\\\\sungk\\\\AppData\\\\Local\\\\Programs\\\\Python\\\\Python39\\\\lib\\\\site-packages',\n",
       " 'C:\\\\Users\\\\sungk\\\\AppData\\\\Local\\\\Programs\\\\Python\\\\Python39\\\\lib\\\\site-packages\\\\win32',\n",
       " 'C:\\\\Users\\\\sungk\\\\AppData\\\\Local\\\\Programs\\\\Python\\\\Python39\\\\lib\\\\site-packages\\\\win32\\\\lib',\n",
       " 'C:\\\\Users\\\\sungk\\\\AppData\\\\Local\\\\Programs\\\\Python\\\\Python39\\\\lib\\\\site-packages\\\\Pythonwin',\n",
       " 'C:\\\\Users\\\\sungk\\\\AppData\\\\Local\\\\Programs\\\\Python\\\\Python39\\\\lib\\\\site-packages\\\\IPython\\\\extensions',\n",
       " 'C:\\\\Users\\\\sungk\\\\.ipython']"
      ]
     },
     "execution_count": 81,
     "metadata": {},
     "output_type": "execute_result"
    }
   ],
   "source": [
    "import sys\n",
    "sys.path"
   ]
  },
  {
   "cell_type": "code",
   "execution_count": null,
   "metadata": {},
   "outputs": [
    {
     "ename": "SyntaxError",
     "evalue": "invalid syntax (Temp/ipykernel_8056/3861307186.py, line 1)",
     "output_type": "error",
     "traceback": [
      "\u001b[1;36m  File \u001b[1;32m\"C:\\Users\\sungk\\AppData\\Local\\Temp/ipykernel_8056/3861307186.py\"\u001b[1;36m, line \u001b[1;32m1\u001b[0m\n\u001b[1;33m    if True\u001b[0m\n\u001b[1;37m           ^\u001b[0m\n\u001b[1;31mSyntaxError\u001b[0m\u001b[1;31m:\u001b[0m invalid syntax\n"
     ]
    }
   ],
   "source": [
    "if True\n",
    "    pass"
   ]
  },
  {
   "cell_type": "code",
   "execution_count": null,
   "metadata": {},
   "outputs": [
    {
     "ename": "ZeroDivisionError",
     "evalue": "division by zero",
     "output_type": "error",
     "traceback": [
      "\u001b[1;31m---------------------------------------------------------------------------\u001b[0m",
      "\u001b[1;31mZeroDivisionError\u001b[0m                         Traceback (most recent call last)",
      "\u001b[1;32m~\\AppData\\Local\\Temp/ipykernel_8056/1531981146.py\u001b[0m in \u001b[0;36m<module>\u001b[1;34m\u001b[0m\n\u001b[1;32m----> 1\u001b[1;33m \u001b[0mprint\u001b[0m\u001b[1;33m(\u001b[0m\u001b[1;36m100\u001b[0m \u001b[1;33m/\u001b[0m \u001b[1;36m0\u001b[0m\u001b[1;33m)\u001b[0m\u001b[1;33m\u001b[0m\u001b[1;33m\u001b[0m\u001b[0m\n\u001b[0m",
      "\u001b[1;31mZeroDivisionError\u001b[0m: division by zero"
     ]
    }
   ],
   "source": [
    "print(100 / 0)\n"
   ]
  },
  {
   "cell_type": "code",
   "execution_count": null,
   "metadata": {},
   "outputs": [
    {
     "name": "stdout",
     "output_type": "stream",
     "text": [
      "70\n"
     ]
    },
    {
     "ename": "IndexError",
     "evalue": "list index out of range",
     "output_type": "error",
     "traceback": [
      "\u001b[1;31m---------------------------------------------------------------------------\u001b[0m",
      "\u001b[1;31mIndexError\u001b[0m                                Traceback (most recent call last)",
      "\u001b[1;32m~\\AppData\\Local\\Temp/ipykernel_8056/1308804996.py\u001b[0m in \u001b[0;36m<module>\u001b[1;34m\u001b[0m\n\u001b[0;32m      1\u001b[0m \u001b[0mx\u001b[0m \u001b[1;33m=\u001b[0m \u001b[1;33m[\u001b[0m\u001b[1;36m50\u001b[0m\u001b[1;33m,\u001b[0m \u001b[1;36m70\u001b[0m\u001b[1;33m,\u001b[0m \u001b[1;36m90\u001b[0m\u001b[1;33m]\u001b[0m\u001b[1;33m\u001b[0m\u001b[1;33m\u001b[0m\u001b[0m\n\u001b[0;32m      2\u001b[0m \u001b[0mprint\u001b[0m\u001b[1;33m(\u001b[0m\u001b[0mx\u001b[0m\u001b[1;33m[\u001b[0m\u001b[1;36m1\u001b[0m\u001b[1;33m]\u001b[0m\u001b[1;33m)\u001b[0m\u001b[1;33m\u001b[0m\u001b[1;33m\u001b[0m\u001b[0m\n\u001b[1;32m----> 3\u001b[1;33m \u001b[0mprint\u001b[0m\u001b[1;33m(\u001b[0m\u001b[0mx\u001b[0m\u001b[1;33m[\u001b[0m\u001b[1;36m4\u001b[0m\u001b[1;33m]\u001b[0m\u001b[1;33m)\u001b[0m\u001b[1;33m\u001b[0m\u001b[1;33m\u001b[0m\u001b[0m\n\u001b[0m\u001b[0;32m      4\u001b[0m \u001b[0mprint\u001b[0m\u001b[1;33m(\u001b[0m\u001b[0mx\u001b[0m\u001b[1;33m.\u001b[0m\u001b[0mpop\u001b[0m\u001b[1;33m(\u001b[0m\u001b[1;33m)\u001b[0m\u001b[1;33m)\u001b[0m\u001b[1;33m\u001b[0m\u001b[1;33m\u001b[0m\u001b[0m\n\u001b[0;32m      5\u001b[0m \u001b[0mprint\u001b[0m\u001b[1;33m(\u001b[0m\u001b[0mx\u001b[0m\u001b[1;33m.\u001b[0m\u001b[0mpop\u001b[0m\u001b[1;33m(\u001b[0m\u001b[1;33m)\u001b[0m\u001b[1;33m)\u001b[0m\u001b[1;33m\u001b[0m\u001b[1;33m\u001b[0m\u001b[0m\n",
      "\u001b[1;31mIndexError\u001b[0m: list index out of range"
     ]
    }
   ],
   "source": [
    "x = [50, 70, 90]\n",
    "print(x[1])\n",
    "print(x[4])\n",
    "print(x.pop())\n",
    "print(x.pop())\n",
    "print(x.pop())\n",
    "print(x.pop())"
   ]
  },
  {
   "cell_type": "code",
   "execution_count": null,
   "metadata": {},
   "outputs": [
    {
     "ename": "AttributeError",
     "evalue": "module 'time' has no attribute 'time2'",
     "output_type": "error",
     "traceback": [
      "\u001b[1;31m---------------------------------------------------------------------------\u001b[0m",
      "\u001b[1;31mAttributeError\u001b[0m                            Traceback (most recent call last)",
      "\u001b[1;32m~\\AppData\\Local\\Temp/ipykernel_8056/3052696669.py\u001b[0m in \u001b[0;36m<module>\u001b[1;34m\u001b[0m\n\u001b[0;32m      1\u001b[0m \u001b[1;32mimport\u001b[0m \u001b[0mtime\u001b[0m\u001b[1;33m\u001b[0m\u001b[1;33m\u001b[0m\u001b[0m\n\u001b[1;32m----> 2\u001b[1;33m \u001b[0mprint\u001b[0m\u001b[1;33m(\u001b[0m\u001b[0mtime\u001b[0m\u001b[1;33m.\u001b[0m\u001b[0mtime2\u001b[0m\u001b[1;33m(\u001b[0m\u001b[1;33m)\u001b[0m\u001b[1;33m)\u001b[0m\u001b[1;33m\u001b[0m\u001b[1;33m\u001b[0m\u001b[0m\n\u001b[0m",
      "\u001b[1;31mAttributeError\u001b[0m: module 'time' has no attribute 'time2'"
     ]
    }
   ],
   "source": [
    "import time\n",
    "print(time.time2())\n"
   ]
  },
  {
   "cell_type": "code",
   "execution_count": 105,
   "metadata": {},
   "outputs": [
    {
     "name": "stdout",
     "output_type": "stream",
     "text": [
      "'Leee' is not in list\n",
      "Not found it! - Occurred ValueError!\n",
      "OK! finally\n"
     ]
    }
   ],
   "source": [
    "name = ['Kim', 'Lee', 'Park']\n",
    "\n",
    "try:\n",
    "    z = 'Leee' # 'Cho'\n",
    "    x = name.index(z)\n",
    "    print('{} Found it! {} in name'.format(z, x + 1))\n",
    "except Exception as e:\n",
    "    print(e)\n",
    "    print('Not found it! - Occurred ValueError!')\n",
    "else:\n",
    "    print('Ok! else.')\n",
    "finally:\n",
    "    print('OK! finally')"
   ]
  },
  {
   "cell_type": "code",
   "execution_count": 107,
   "metadata": {},
   "outputs": [
    {
     "name": "stdout",
     "output_type": "stream",
     "text": [
      "Occurred! Exception!\n"
     ]
    }
   ],
   "source": [
    "try:\n",
    "    a = 'Parkk'\n",
    "    if a == 'Park':\n",
    "        print('OK! Pass!')\n",
    "    else:\n",
    "        raise ValueError\n",
    "except ValueError:\n",
    "    print('Occurred! Exception!')\n",
    "else:\n",
    "    print('Ok! else!')"
   ]
  },
  {
   "cell_type": "code",
   "execution_count": null,
   "metadata": {},
   "outputs": [],
   "source": []
  },
  {
   "cell_type": "code",
   "execution_count": 114,
   "metadata": {},
   "outputs": [
    {
     "data": {
      "text/plain": [
       "True"
      ]
     },
     "execution_count": 114,
     "metadata": {},
     "output_type": "execute_result"
    }
   ],
   "source": [
    "any((1,2,3,'bb'))"
   ]
  },
  {
   "cell_type": "code",
   "execution_count": 120,
   "metadata": {},
   "outputs": [
    {
     "name": "stdout",
     "output_type": "stream",
     "text": [
      "¾\n"
     ]
    }
   ],
   "source": [
    "\n",
    "print(chr(190))"
   ]
  },
  {
   "cell_type": "code",
   "execution_count": 121,
   "metadata": {},
   "outputs": [
    {
     "name": "stdout",
     "output_type": "stream",
     "text": [
      "0 abc\n",
      "1 bcd\n",
      "2 efg\n"
     ]
    }
   ],
   "source": [
    "for i, name in enumerate(['abc', 'bcd', 'efg']):\n",
    "    print(i, name)"
   ]
  },
  {
   "cell_type": "code",
   "execution_count": 124,
   "metadata": {},
   "outputs": [
    {
     "name": "stdout",
     "output_type": "stream",
     "text": [
      "0 abc\n",
      "1 bcd\n",
      "2 efg\n"
     ]
    }
   ],
   "source": [
    "for k, name in enumerate(['abc', 'bcd', 'efg']):\n",
    "    print(k, name)"
   ]
  },
  {
   "cell_type": "code",
   "execution_count": 129,
   "metadata": {},
   "outputs": [],
   "source": [
    "\n",
    "def conv_pos(x):\n",
    "    return abs(x) > 2"
   ]
  },
  {
   "cell_type": "code",
   "execution_count": null,
   "metadata": {},
   "outputs": [],
   "source": []
  },
  {
   "cell_type": "code",
   "execution_count": 141,
   "metadata": {},
   "outputs": [
    {
     "name": "stdout",
     "output_type": "stream",
     "text": [
      "[-5, -4]\n"
     ]
    }
   ],
   "source": [
    "print(list(filter(lambda x:x*x>10,[-5,-4,-3,-2,-1])))"
   ]
  },
  {
   "cell_type": "code",
   "execution_count": null,
   "metadata": {},
   "outputs": [],
   "source": []
  },
  {
   "cell_type": "code",
   "execution_count": 142,
   "metadata": {},
   "outputs": [
    {
     "name": "stdout",
     "output_type": "stream",
     "text": [
      "[1, 3, 2, 0, 5, 6]\n"
     ]
    }
   ],
   "source": [
    "print(list(map(lambda x:abs(x),[1,-3,2,0,-5,6])))"
   ]
  },
  {
   "cell_type": "code",
   "execution_count": 143,
   "metadata": {},
   "outputs": [
    {
     "name": "stdout",
     "output_type": "stream",
     "text": [
      "[(10, 40), (20, 50), (30, 777)]\n"
     ]
    }
   ],
   "source": [
    "print(list(zip([10,20,30],[40,50,777])))"
   ]
  },
  {
   "cell_type": "code",
   "execution_count": 147,
   "metadata": {},
   "outputs": [
    {
     "name": "stdout",
     "output_type": "stream",
     "text": [
      "[(10, 40), (20, 50), (30, 777)]\n"
     ]
    }
   ],
   "source": [
    "print(list(zip([10,20,30],[40,50,777,100])))"
   ]
  },
  {
   "cell_type": "code",
   "execution_count": 149,
   "metadata": {},
   "outputs": [
    {
     "name": "stdout",
     "output_type": "stream",
     "text": [
      "['c:\\\\Users\\\\sungk\\\\OneDrive\\\\바탕 화면\\\\programming', 'c:\\\\Users\\\\sungk\\\\.vscode\\\\extensions\\\\ms-toolsai.jupyter-2021.10.1101450599\\\\pythonFiles', 'c:\\\\Users\\\\sungk\\\\.vscode\\\\extensions\\\\ms-toolsai.jupyter-2021.10.1101450599\\\\pythonFiles\\\\lib\\\\python', 'C:\\\\Users\\\\sungk\\\\AppData\\\\Local\\\\Programs\\\\Python\\\\Python39\\\\python39.zip', 'C:\\\\Users\\\\sungk\\\\AppData\\\\Local\\\\Programs\\\\Python\\\\Python39\\\\DLLs', 'C:\\\\Users\\\\sungk\\\\AppData\\\\Local\\\\Programs\\\\Python\\\\Python39\\\\lib', 'C:\\\\Users\\\\sungk\\\\AppData\\\\Local\\\\Programs\\\\Python\\\\Python39', '', 'C:\\\\Users\\\\sungk\\\\AppData\\\\Local\\\\Programs\\\\Python\\\\Python39\\\\lib\\\\site-packages', 'C:\\\\Users\\\\sungk\\\\AppData\\\\Local\\\\Programs\\\\Python\\\\Python39\\\\lib\\\\site-packages\\\\win32', 'C:\\\\Users\\\\sungk\\\\AppData\\\\Local\\\\Programs\\\\Python\\\\Python39\\\\lib\\\\site-packages\\\\win32\\\\lib', 'C:\\\\Users\\\\sungk\\\\AppData\\\\Local\\\\Programs\\\\Python\\\\Python39\\\\lib\\\\site-packages\\\\Pythonwin', 'C:\\\\Users\\\\sungk\\\\AppData\\\\Local\\\\Programs\\\\Python\\\\Python39\\\\lib\\\\site-packages\\\\IPython\\\\extensions', 'C:\\\\Users\\\\sungk\\\\.ipython']\n"
     ]
    }
   ],
   "source": [
    "import sys\n",
    "\n",
    "# 예제1\n",
    "print(sys.path)"
   ]
  },
  {
   "cell_type": "code",
   "execution_count": 151,
   "metadata": {},
   "outputs": [],
   "source": [
    "import pickle\n",
    "\n",
    "# 예제4(쓰기)\n",
    "f = open(\"test2.obj\", 'wb')\n",
    "obj = {1: 'python', 2: 'study', 3: 'basic'}\n",
    "pickle.dump(obj, f)\n",
    "f.close()\n"
   ]
  },
  {
   "cell_type": "code",
   "execution_count": 171,
   "metadata": {},
   "outputs": [
    {
     "name": "stdout",
     "output_type": "stream",
     "text": [
      "sungk\n",
      "c:\\Users\\sungk\\OneDrive\\바탕 화면\\programming\n"
     ]
    }
   ],
   "source": [
    "import os\n",
    "\n",
    "# 예제6\n",
    "#print(os.environ)\n",
    "print(os.environ['USERNAME'])\n",
    "\n",
    "# 예제7(현재 경로)\n",
    "print(os.getcwd())"
   ]
  },
  {
   "cell_type": "code",
   "execution_count": 176,
   "metadata": {},
   "outputs": [
    {
     "name": "stdout",
     "output_type": "stream",
     "text": [
      "time.struct_time(tm_year=2021, tm_mon=12, tm_mday=8, tm_hour=19, tm_min=49, tm_sec=37, tm_wday=2, tm_yday=342, tm_isdst=0)\n",
      "Wed Dec  8 19:49:37 2021\n",
      "2021-12-08 19:49\n",
      "0\n",
      "1\n",
      "2\n",
      "3\n",
      "4\n"
     ]
    }
   ],
   "source": [
    "import time\n",
    "\n",
    "# 예제8\n",
    "#print(time.time())\n",
    "\n",
    "# 예제9(형태 변환)\n",
    "print(time.localtime())\n",
    "\n",
    "# 예제10(간단 표현)\n",
    "print(time.ctime())\n",
    "\n",
    "# 예제11(형식 표현)\n",
    "print(time.strftime('%Y-%m-%d %H:%M', time.localtime()))\n",
    "\n",
    "# 예제12(시간 간격 발생)\n",
    "for i in range(5):\n",
    "\tprint(i)\n",
    "\ttime.sleep(1)"
   ]
  },
  {
   "cell_type": "code",
   "execution_count": 190,
   "metadata": {},
   "outputs": [
    {
     "name": "stdout",
     "output_type": "stream",
     "text": [
      "0.08901206639388548\n",
      "9\n"
     ]
    }
   ],
   "source": [
    "import random\n",
    "\n",
    "# 예제13\n",
    "print(random.random())\n",
    "\n",
    "# 예제14\n",
    "print(random.randint(1, 45))"
   ]
  },
  {
   "cell_type": "code",
   "execution_count": 192,
   "metadata": {},
   "outputs": [
    {
     "data": {
      "text/plain": [
       "True"
      ]
     },
     "execution_count": 192,
     "metadata": {},
     "output_type": "execute_result"
    }
   ],
   "source": [
    "import webbrowser\n",
    "webbrowser.open_new(\"http://google.com\")"
   ]
  },
  {
   "cell_type": "code",
   "execution_count": 196,
   "metadata": {},
   "outputs": [
    {
     "name": "stdout",
     "output_type": "stream",
     "text": [
      "UTF-8\n",
      "./stock.txt\n",
      "r\n"
     ]
    }
   ],
   "source": [
    "\n",
    "f = open('./stock.txt', 'r', encoding='UTF-8')\n",
    "# 속성 확인\n",
    "#print(dir(f))\n",
    "# 인코딩 확인\n",
    "print(f.encoding)\n",
    "# 파일 이름\n",
    "print(f.name)\n",
    "# 모드 확인\n",
    "print(f.mode)\n",
    "cts = f.read()\n",
    "#print(cts)\n",
    "# 반드시 close\n",
    "f.close()"
   ]
  },
  {
   "cell_type": "code",
   "execution_count": 206,
   "metadata": {},
   "outputs": [
    {
     "data": {
      "text/plain": [
       "10.5"
      ]
     },
     "execution_count": 206,
     "metadata": {},
     "output_type": "execute_result"
    }
   ],
   "source": [
    "f = open('./stock.txt','r',encoding='utf-8')\n",
    "f.seek(10.5)"
   ]
  },
  {
   "cell_type": "code",
   "execution_count": 214,
   "metadata": {},
   "outputs": [
    {
     "ename": "AttributeError",
     "evalue": "'str' object has no attribute 'read'",
     "output_type": "error",
     "traceback": [
      "\u001b[1;31m---------------------------------------------------------------------------\u001b[0m",
      "\u001b[1;31mAttributeError\u001b[0m                            Traceback (most recent call last)",
      "\u001b[1;32m~\\AppData\\Local\\Temp/ipykernel_8056/1824977403.py\u001b[0m in \u001b[0;36m<module>\u001b[1;34m\u001b[0m\n\u001b[0;32m      1\u001b[0m \u001b[1;32mwith\u001b[0m \u001b[0mopen\u001b[0m\u001b[1;33m(\u001b[0m\u001b[1;34m'./stock.txt'\u001b[0m\u001b[1;33m,\u001b[0m \u001b[1;34m'r'\u001b[0m\u001b[1;33m,\u001b[0m \u001b[0mencoding\u001b[0m\u001b[1;33m=\u001b[0m\u001b[1;34m'UTF-8'\u001b[0m\u001b[1;33m)\u001b[0m \u001b[1;32mas\u001b[0m \u001b[0mf\u001b[0m\u001b[1;33m:\u001b[0m\u001b[1;33m\u001b[0m\u001b[1;33m\u001b[0m\u001b[0m\n\u001b[0;32m      2\u001b[0m     \u001b[0mc\u001b[0m \u001b[1;33m=\u001b[0m \u001b[0mf\u001b[0m\u001b[1;33m.\u001b[0m\u001b[0mread\u001b[0m\u001b[1;33m(\u001b[0m\u001b[1;33m)\u001b[0m\u001b[1;33m\u001b[0m\u001b[1;33m\u001b[0m\u001b[0m\n\u001b[1;32m----> 3\u001b[1;33m     \u001b[0mprint\u001b[0m\u001b[1;33m(\u001b[0m\u001b[0mc\u001b[0m\u001b[1;33m.\u001b[0m\u001b[0mread\u001b[0m\u001b[1;33m(\u001b[0m\u001b[1;36m20\u001b[0m\u001b[1;33m)\u001b[0m\u001b[1;33m)\u001b[0m\u001b[1;33m\u001b[0m\u001b[1;33m\u001b[0m\u001b[0m\n\u001b[0m",
      "\u001b[1;31mAttributeError\u001b[0m: 'str' object has no attribute 'read'"
     ]
    }
   ],
   "source": [
    "with open('./stock.txt', 'r', encoding='UTF-8') as f:\n",
    "    c = f.read()\n",
    "    print(c.read(20))\n"
   ]
  },
  {
   "cell_type": "code",
   "execution_count": 216,
   "metadata": {},
   "outputs": [
    {
     "name": "stdout",
     "output_type": "stream",
     "text": [
      "섹터 : 반도체(DDR5) / 에너지\n",
      "(원전) / 부동산(건설)\n",
      "다음주 F\n",
      "OMC 골드와 채권 기회를 노리자. \n",
      "섹터 : 반도체(DDR5) / 에너지\n",
      "\n"
     ]
    }
   ],
   "source": [
    "with open('./stock.txt', 'r', encoding='UTF-8') as f:\n",
    "    c = f.read(20)\n",
    "    print(c)\n",
    "    c = f.read(20)\n",
    "    print(c)\n",
    "    c = f.read(20)\n",
    "    print(c)\n",
    "    f.seek(0,0)\n",
    "    c = f.read(20)\n",
    "    print(c)\n",
    "\n",
    "print()"
   ]
  },
  {
   "cell_type": "code",
   "execution_count": 221,
   "metadata": {},
   "outputs": [
    {
     "name": "stdout",
     "output_type": "stream",
     "text": [
      "섹터 : 반도체(DDR5) / 에너지(원전) / 부동산(건설)\n",
      "\n",
      "다음주 FOMC 골드와 채권 기회를 노리자. -> 인플레 주간.\n",
      "\n",
      "9일 중국, 10일 미국/일본 CPI : 높게 나올 것이다. --> 인플레이션 우려 --> 테이퍼링? / 시장이 두려워할듯..\n",
      "\n",
      "금리올릴거라는 구두시그널도 나올듯..\n",
      "\n",
      "\n",
      "\n",
      "\n",
      "\n",
      "SK IET 152000이탈 컷\n",
      "\n",
      "반도체(DDR5) 1\n",
      "\n",
      "자동차(전기차) 1\n",
      "\n",
      "건설 1\n",
      "\n",
      "리오프닝 1\n",
      "\n",
      "녹십자 1\n",
      "\n",
      "메드팩토 \n",
      "\n",
      "\n",
      "\n",
      "채권 트레이닝 \n",
      "\n",
      "\n",
      "\n",
      "LX세미콘(엘지의 유일한 반도체)\n",
      "\n",
      "\n",
      "\n",
      "투게더\n",
      "\n",
      "하나머티리얼즈\n",
      "\n",
      "테스나\n",
      "\n",
      "디비하이텍\n",
      "\n",
      "신세계 \n",
      "\n",
      "엘지(우) 엘지전자\n",
      "\n",
      "호텔신라\n",
      "\n",
      "기아\n",
      "\n",
      "엘지디스플레이 \n",
      "\n",
      "OCl\n",
      "\n",
      "\n",
      "\n",
      "오미크론 불확실성이 있다 + 경기는 완만히 회복중이다 + 인플레는 높다 = 테이퍼 속도는 빨라질 것이다. \n",
      "\n",
      "그러나 금리인상 서두르겠다 까지 나온다면 연준이 잘하고 있는 것으로 이해. \n",
      "\n",
      "그러나 그렇게 할 용기가 있는지 의문. \n",
      "\n",
      "만일 금리인상도 빨라질수 있다는 공포가 있거나(가능성 높겟죠...10일날 cpi높게 나오면)\n",
      "\n",
      "또는 f0mc에서 그런 발언이 나온다면 금리는 단기적으로 하락가능성 있음.\n",
      "\n",
      "통화 긴축이 시장ㄱ ㅣ대보다 쎄면 금리는 계속 오르는게 아니라. 일시적으로 단기하락을 경험하기도한다.\n",
      "\n",
      "왜냐하면 긴축이 빨라지네-->경기둔화되겟네-->금리인하.\n",
      "\n",
      "그런데 통상 이럴때는 기회다. 중기적으로 잘못된 해석이기때문.\n",
      "\n",
      "잊지말자 아직 경기커브 원탑찍었다. \n",
      "\n",
      "채권 트레이딩에 집중할 시간이다. \n",
      "\n",
      "\n",
      "\n",
      "두가지 명제의 확인  \n",
      "\n",
      "오미크론보다 델타변이 리스크.\n",
      "\n",
      "오미크론은 리스크 과장된것으로 보임. \n",
      "\n",
      "그럼 이에 맞춰 지수를 잡으면 될것으로 판단. \n",
      "\n",
      "\n",
      "\n",
      "3 오미크론 타격은 복원되어야\n",
      "\n",
      "위드코로나 관련 오미크론으로 인한 손실은 복원되어야 로직의 타당성 성립. \n",
      "\n",
      "만일오미크론으로 미국 소형주가 급락했다거나,\n",
      "\n",
      "미국 금리가 오미크론으로 크게 떨어졌다면 \n",
      "\n",
      "이는 잘못된 해석. \n",
      "\n",
      "\n",
      "\n",
      "서두를 필요는 없겟지만 아래 기사에 공감.\n",
      "\n",
      "\n",
      "\n",
      "\n"
     ]
    }
   ],
   "source": [
    "with open('./stock.txt', 'r', encoding='UTF-8') as f:\n",
    "    line = f.readlines()\n",
    "    for i in line:\n",
    "        print(i)\n",
    "\n",
    "print()"
   ]
  },
  {
   "cell_type": "code",
   "execution_count": 225,
   "metadata": {},
   "outputs": [],
   "source": [
    "with open('./contents1.txt', 'a') as f:\n",
    "    list = ['Orange\\n', 'Apple\\n', 'Banana\\n', 'Melon\\n']\n",
    "    f.writelines(list)"
   ]
  },
  {
   "cell_type": "code",
   "execution_count": null,
   "metadata": {},
   "outputs": [],
   "source": [
    "import csv\n",
    "\n",
    "with open('./python_level1/lecture/example/resource/test1.csv','r') as f:\n",
    "    reader = csv.reader(f)\n",
    "    #print(reader)\n",
    "    #print(type(reader))\n",
    "    #print(dir(reader))\n",
    "    print()\n",
    "    next(reader) # header skip \n",
    "    for i in reader:\n",
    "        print(':'.join(i))\n",
    "    "
   ]
  },
  {
   "cell_type": "code",
   "execution_count": null,
   "metadata": {},
   "outputs": [],
   "source": [
    "with open('./python_level1/lecture/example/resource/test2.csv','r') as f:\n",
    "    reader = csv.reader(f,delimiter='|')\n",
    "    next(reader)\n",
    "    for c in reader:\n",
    "        print(':'.join(c))"
   ]
  },
  {
   "cell_type": "code",
   "execution_count": null,
   "metadata": {},
   "outputs": [],
   "source": [
    "with open('./python_level1/lecture/example/resource/test1.csv','r') as f:\n",
    "    reader = csv.DictReader(f)\n",
    "    print(reader)\n",
    "    print(type(reader))\n",
    "    for c in reader:\n",
    "        for d,e in c.items():\n",
    "            print(d,e)\n",
    "        print('---------')\n",
    "        "
   ]
  },
  {
   "cell_type": "code",
   "execution_count": null,
   "metadata": {},
   "outputs": [],
   "source": [
    "w = [[1, 2, 3], [4, 5, 6], [7, 8, 9], [10, 11, 12], [13, 14, 15], [16, 17, 18], [19, 20, 21]]\n",
    "\n",
    "import csv\n",
    "with open('./python_level1/lecture/example/resource/write1.csv','w',encoding='utf-8') as f:\n",
    "#    reader = csv.reader(f)\n",
    "    wt = csv.writer(f)\n",
    "    print(dir(w))\n",
    "    for v in w:\n",
    "        wt.writerow(v)\n",
    "        "
   ]
  },
  {
   "cell_type": "code",
   "execution_count": 6,
   "metadata": {},
   "outputs": [],
   "source": [
    "with open('./python_level1/lecture/example/resource/write2.csv','w',encoding='utf-8') as f:\n",
    "        # 필드명\n",
    "    fields = ['one', 'two', 'three']\n",
    "    # Dict Writer 선언\n",
    "    wt = csv.DictWriter(f, fieldnames=fields)\n",
    "    # Herder Write\n",
    "    wt.writeheader()\n",
    "\n",
    "    for v in w:\n",
    "        wt.writerow({'one': v[0], 'two': v[1], 'three': v[2]})\n"
   ]
  },
  {
   "cell_type": "code",
   "execution_count": 12,
   "metadata": {},
   "outputs": [
    {
     "name": "stdout",
     "output_type": "stream",
     "text": [
      "['\\ufeffname', 'hint']\n",
      "['strawberry', 'fruit']\n",
      "['grape', 'fruit']\n",
      "['melon', 'fruit']\n",
      "['wagon', 'vehicle']\n",
      "['van', 'vehicle']\n"
     ]
    }
   ],
   "source": [
    "import csv\n",
    "f = open('./python_level1/lecture/example/resource/word_list2.csv','r',encoding='utf-8')\n",
    "reader = csv.reader(f)\n",
    "for i in reader:\n",
    "    print(i)"
   ]
  }
 ],
 "metadata": {
  "interpreter": {
   "hash": "f37906f8b953cf652f252c80855fac20386d9213450d0f055a486da345e766a5"
  },
  "kernelspec": {
   "display_name": "Python 3.9.9 64-bit",
   "language": "python",
   "name": "python3"
  },
  "language_info": {
   "codemirror_mode": {
    "name": "ipython",
    "version": 3
   },
   "file_extension": ".py",
   "mimetype": "text/x-python",
   "name": "python",
   "nbconvert_exporter": "python",
   "pygments_lexer": "ipython3",
   "version": "3.9.9"
  },
  "orig_nbformat": 4
 },
 "nbformat": 4,
 "nbformat_minor": 2
}
